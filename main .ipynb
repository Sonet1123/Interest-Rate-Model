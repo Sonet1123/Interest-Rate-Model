{
 "cells": [
  {
   "cell_type": "markdown",
   "id": "baa2c92a-8295-4658-b0d5-38053e01f7a9",
   "metadata": {},
   "source": [
    "# Hull–White (1F) Extended Vasicek Model Bond Option Pricing \n",
    "\n",
    "This notebook builds three input curves (flat, pillar zeros, bootstrapped), prices **European options on zero‑coupon bonds** under the **Hull–White 1‑factor model**, and compares to a Black (Black‑76) pricer. "
   ]
  },
  {
   "cell_type": "markdown",
   "id": "7948680e-1d69-4c93-a769-29c0561edbe7",
   "metadata": {},
   "source": [
    "## Imports & utilities\n"
   ]
  },
  {
   "cell_type": "code",
   "execution_count": 1,
   "id": "4b245dd4-da87-44ad-8113-e98e917e9cbc",
   "metadata": {},
   "outputs": [],
   "source": [
    "import numpy as np\n",
    "from math import exp, log, sqrt, erf\n",
    "from dataclasses import dataclass\n",
    "from typing import List, Tuple, Optional"
   ]
  },
  {
   "cell_type": "code",
   "execution_count": 23,
   "id": "deb10c62-4470-48a0-a066-de6bf0754924",
   "metadata": {},
   "outputs": [],
   "source": [
    "# Utilities\n",
    "def Phi(x: float) -> float:\n",
    "    \"\"\"Standard normal CDF.\"\"\"\n",
    "    return 0.5 * (1.0 + erf(x / sqrt(2.0)))"
   ]
  },
  {
   "cell_type": "markdown",
   "id": "ce5ccae5-7845-49e4-8785-43b640ad224c",
   "metadata": {},
   "source": [
    "## Define piecewise-linear zero curve\n",
    "- Defines a piecewise‑linear continuous‑compounded zero curve and provides `discount(T)` and simple curve bumps.\n",
    "- Builds three curves: flat, pillar zeros, and bootstrapped; these feed the pricers."
   ]
  },
  {
   "cell_type": "code",
   "execution_count": 25,
   "id": "9eb520a7-1e29-4e99-bca9-6cd9ecae2d53",
   "metadata": {},
   "outputs": [],
   "source": [
    "# Piecewise-linear zero curve\n",
    "#hold a yield curve and give discount factors for any maturity T\n",
    "\n",
    "@dataclass\n",
    "class PiecewiseLinearZeroCurve:\n",
    "    \"\"\"\n",
    "    Continuous-compounded zero curve z(T), linearly interpolated in T (years).\n",
    "    Stores pillars (T_i, z_i). Discount: P(0,T) = exp(-z(T)*T).\n",
    "    \"\"\"\n",
    "    maturities: np.ndarray\n",
    "    zeros: np.ndarray\n",
    "\n",
    "    def __post_init__(self):\n",
    "        mats = np.array(self.maturities, dtype=float)\n",
    "        zs   = np.array(self.zeros, dtype=float)\n",
    "        idx  = np.argsort(mats)\n",
    "        self.maturities = mats[idx]\n",
    "        self.zeros      = zs[idx]\n",
    "\n",
    "    # ---- Constructors ----\n",
    "    @classmethod\n",
    "    def from_flat(cls, flat_cc_rate: float, T_max: float = 30.0):\n",
    "        mats  = np.array([0.0, T_max], dtype=float)\n",
    "        zeros = np.array([flat_cc_rate, flat_cc_rate], dtype=float)\n",
    "        return cls(mats, zeros)\n",
    "\n",
    "    @classmethod\n",
    "    def from_zeros(cls, pillars_T: List[float], zeros_cc: List[float]):\n",
    "        return cls(np.array(pillars_T, float), np.array(zeros_cc, float))\n",
    "\n",
    "    @classmethod\n",
    "    def from_discounts(cls, pillars_T: List[float], discounts: List[float]):\n",
    "        T = np.array(pillars_T, dtype=float)\n",
    "        P = np.clip(np.array(discounts, dtype=float), 1e-12, 1.0)\n",
    "        z = np.zeros_like(T)\n",
    "        mask = T > 0\n",
    "        z[mask] = -np.log(P[mask]) / T[mask]\n",
    "        if not mask.all():\n",
    "            # At T=0 set z to the first positive-maturity zero\n",
    "            z[~mask] = z[mask][0]\n",
    "        return cls(T, z)\n",
    "\n",
    "    def z(self, T: float) -> float:\n",
    "        mats, zs = self.maturities, self.zeros\n",
    "        if T <= mats[0]:  return zs[0]\n",
    "        if T >= mats[-1]: return zs[-1]\n",
    "        i = np.searchsorted(mats, T) - 1\n",
    "        T0, T1 = mats[i], mats[i+1]\n",
    "        z0, z1 = zs[i], zs[i+1]\n",
    "        w = (T - T0) / (T1 - T0)\n",
    "        return (1 - w) * z0 + w * z1\n",
    "\n",
    "    def discount(self, T: float) -> float:\n",
    "        return exp(-self.z(T) * T)\n",
    "\n",
    "    # Simple parallel and key-rate bumps\n",
    "    def bumped_parallel(self, bp: float):\n",
    "        bumped = self.zeros + bp / 10000.0\n",
    "        return PiecewiseLinearZeroCurve(self.maturities.copy(), bumped)\n",
    "\n",
    "    def bumped_keyrate(self, key_T: float, bp: float):\n",
    "        mats = self.maturities.copy()\n",
    "        zs   = self.zeros.copy()\n",
    "        idx  = int(np.argmin(np.abs(mats - key_T)))\n",
    "        zs[idx] += bp / 10000.0\n",
    "        return PiecewiseLinearZeroCurve(mats, zs)\n"
   ]
  },
  {
   "cell_type": "markdown",
   "id": "72c5cd3a-4383-488f-a348-fa4a6b43b86c",
   "metadata": {},
   "source": [
    "## Bootstrap yield curve from deposits & par swaps\n",
    "- Bootstraps discount factors from a 1Y deposit and annual par swap quotes using par‑swap parity."
   ]
  },
  {
   "cell_type": "code",
   "execution_count": 26,
   "id": "ac25b5d5-912d-4344-b3f8-08f4849d93d9",
   "metadata": {},
   "outputs": [],
   "source": [
    "# Toy bootstrap (deposits + annual par swaps)\n",
    "\n",
    "def bootstrap_discounts_from_deposits_swaps(\n",
    "    dep_points: Optional[List[Tuple[float, float]]] = None,\n",
    "    swap_points: Optional[List[Tuple[int, float]]] = None,\n",
    "    accruals: Optional[List[float]] = None,\n",
    "):\n",
    "    \"\"\"\n",
    "    Bootstrap P(0,T) from:\n",
    "      - deposits: (T_years, r_simple)  -> P = 1 / (1 + r_simple * T)\n",
    "      - par swaps: (T_n_years, s_n) with annual fixed leg\n",
    "    For simplicity: annual accruals alpha_i = 1 unless provided via 'accruals'.\n",
    "    \"\"\"\n",
    "    dep_points  = dep_points  or []\n",
    "    swap_points = swap_points or []\n",
    "    disc = {}\n",
    "\n",
    "    # deposits\n",
    "    for T, r_simple in dep_points:\n",
    "        disc[int(round(T))] = 1.0 / (1.0 + float(r_simple) * float(T))\n",
    "\n",
    "    # swaps (sorted by maturity)\n",
    "    swap_points = sorted(swap_points, key=lambda x: x[0])\n",
    "    for Tn, s in swap_points:\n",
    "        s = float(s)\n",
    "        n = int(Tn)\n",
    "        # ensure earlier pillars exist\n",
    "        annuity = 0.0\n",
    "        for i in range(1, n):\n",
    "            if i not in disc:\n",
    "                raise ValueError(f\"Missing discount for {i}y; add a deposit or earlier swap.\")\n",
    "            alpha_i = 1.0 if accruals is None else accruals[i-1]\n",
    "            annuity += alpha_i * disc[i]\n",
    "        alpha_n = 1.0 if accruals is None else accruals[n-1]\n",
    "        # Par swap parity (fixed annual):\n",
    "        # 1 - P(0,Tn) = s * sum_{i=1..n} alpha_i P(0,Ti)\n",
    "        # => P(0,Tn) * (1 + s * alpha_n) = 1 - s * sum_{i=1..n-1} alpha_i P(0,Ti)\n",
    "        P_Tn = (1.0 - s * annuity) / (1.0 + s * alpha_n)\n",
    "        if P_Tn <= 0:\n",
    "            raise ValueError(f\"Negative discount at {n}y; check inputs.\")\n",
    "        disc[n] = P_Tn\n",
    "\n",
    "    # Assemble pillars\n",
    "    pillars = sorted(disc.keys())\n",
    "    discounts = [disc[k] for k in pillars]\n",
    "    return PiecewiseLinearZeroCurve.from_discounts(pillars, discounts)\n"
   ]
  },
  {
   "cell_type": "markdown",
   "id": "87dfcc37-c3c6-4c29-b0f1-e8c7f528e9a5",
   "metadata": {},
   "source": [
    "## Define Hull–White (1F) model & bond-option pricer\n",
    "- Implements Hull–White 1‑factor bond‑option pricing: computes bond price lognormal volatility σ_P and Black‑style price."
   ]
  },
  {
   "cell_type": "code",
   "execution_count": 27,
   "id": "3f72c449-7356-4e28-83d6-11792e0ecfd1",
   "metadata": {},
   "outputs": [],
   "source": [
    "\n",
    "# Hull–White 1-factor (Extended Visicek Model) (bond option)\n",
    "@dataclass\n",
    "class HullWhite1F:\n",
    "    a: float\n",
    "    sigma: float\n",
    "    curve: PiecewiseLinearZeroCurve\n",
    "\n",
    "    def B(self, tau: float) -> float:\n",
    "        \"\"\"HW B(t,T) = (1 - e^{-a * tau}) / a, depends only on tau = T - t.\"\"\"\n",
    "        a = self.a\n",
    "        return (1.0 - np.exp(-a * tau)) / a\n",
    "\n",
    "    def sigma_P(self, t: float, S: float, T: float) -> float:\n",
    "        \"\"\"\n",
    "        Bond price lognormal vol over [t,S]:\n",
    "        sigma_P^2 = sigma^2 * ((1 - e^{-a(T-S)})/a)^2 * ((1 - e^{-2a(S-t)})/(2a))\n",
    "        \"\"\"\n",
    "        a, sigma = self.a, self.sigma\n",
    "        term1 = (1.0 - np.exp(-a * (T - S))) / a\n",
    "        term2 = (1.0 - np.exp(-2.0 * a * (S - t))) / (2.0 * a)\n",
    "        return sigma * term1 * sqrt(term2)\n",
    "\n",
    "    def zcb_option(self, S: float, T: float, K: float, t: float = 0.0, call: bool = True) -> float:\n",
    "        \"\"\"\n",
    "        Closed-form option on zero-coupon bond under HW1f at time t (default 0).\n",
    "        This is identical in form to Black with vol = sigma_P(t,S,T).\n",
    "        \"\"\"\n",
    "        P_tS = self.curve.discount(S)\n",
    "        P_tT = self.curve.discount(T)\n",
    "        sp   = self.sigma_P(t, S, T)\n",
    "        if sp <= 0:\n",
    "            intrinsic = P_tT - K * P_tS\n",
    "            return max(intrinsic, 0.0) if call else max(-intrinsic, 0.0)\n",
    "        d1 = (log(P_tT / (K * P_tS)) / sp) + 0.5 * sp\n",
    "        d2 = d1 - sp\n",
    "        if call:\n",
    "            return P_tT * Phi(d1) - K * P_tS * Phi(d2)\n",
    "        else:\n",
    "            return K * P_tS * Phi(-d2) - P_tT * Phi(-d1)\n",
    "\n",
    "    def call(self, S: float, T: float, K: float, t: float = 0.0) -> float:\n",
    "        return self.zcb_option(S, T, K, t, True)\n",
    "\n",
    "    def put(self,  S: float, T: float, K: float, t: float = 0.0) -> float:\n",
    "        return self.zcb_option(S, T, K, t, False)\n"
   ]
  },
  {
   "cell_type": "markdown",
   "id": "e01026c3-7294-4d93-9cf6-f5f8be07e37f",
   "metadata": {},
   "source": [
    "## Define Black (Black-76) bond option pricer\n",
    "- Implements Black‑76 bond option formula to compare against HW using a chosen lognormal volatility."
   ]
  },
  {
   "cell_type": "code",
   "execution_count": 28,
   "id": "bba12ad1-0abf-4e51-bceb-c60614d9c3b2",
   "metadata": {},
   "outputs": [],
   "source": [
    "# Black (Black-76) bond option pricer\n",
    "class BlackBondOption:\n",
    "    @staticmethod\n",
    "    def price(P_tS: float, P_tT: float, K: float, sigma_ln: float, call: bool = True) -> float:\n",
    "        \"\"\"\n",
    "        Black-style price for option on a zero-coupon bond at time t (use t=0 inputs).\n",
    "        sigma_ln is the *lognormal* volatility of the bond price over [t,S].\n",
    "        \"\"\"\n",
    "        if sigma_ln <= 0:\n",
    "            intrinsic = P_tT - K * P_tS\n",
    "            return max(intrinsic, 0.0) if call else max(-intrinsic, 0.0)\n",
    "        d1 = (log(P_tT / (K * P_tS)) / sigma_ln) + 0.5 * sigma_ln\n",
    "        d2 = d1 - sigma_ln\n",
    "        if call:\n",
    "            return P_tT * Phi(d1) - K * P_tS * Phi(d2)\n",
    "        else:\n",
    "            return K * P_tS * Phi(-d2) - P_tT * Phi(-d1)\n"
   ]
  },
  {
   "cell_type": "markdown",
   "id": "a98fadbd-807d-4002-91d6-bf0ce4c0c4c8",
   "metadata": {},
   "source": [
    "## Bond option price\n",
    "- Bootstraps discount factors from a 1Y deposit and annual par swap quotes using par‑swap parity.\n",
    "- Implements Black‑76 bond option formula to compare against HW using a chosen lognormal volatility.\n",
    "- Builds three curves: flat, pillar zeros, and bootstrapped; these feed the pricers.\n",
    "- Runs a comparison table (HW vs Black) for each curve; uses K=0.8×P(0,T) or ATM as specified."
   ]
  },
  {
   "cell_type": "code",
   "execution_count": 30,
   "id": "cc6b7d41-15ca-4045-bb55-f23aea1abbad",
   "metadata": {},
   "outputs": [
    {
     "name": "stdout",
     "output_type": "stream",
     "text": [
      "=== HW1f vs Black (Black-76) for a ZCB Option ===\n",
      "HW params: a=0.0500, sigma=0.0100, Option expiry S=2.0y, Bond maturity T=5.0y\n",
      "Note: Black price equals HW if sigma_ln = HW sigma_P(t,S,T).\n",
      "--------------------------------------------------------------------------------------\n",
      "Curve                          P(0,S)     P(0,T)          K      HW Call       HW Put  Black@HWvol Black@10%vol\n",
      "Flat 3%                      0.941765   0.860708   0.688566     0.212241     0.000000     0.212241     0.212292\n",
      "Pillar Zeros                 0.941765   0.852144   0.681715     0.210129     0.000000     0.210129     0.210179\n",
      "Bootstrap (dep+swaps)        0.940740   0.849821   0.679857     0.210253     0.000000     0.210253     0.210301\n"
     ]
    }
   ],
   "source": [
    "def compare_all_three_curves():\n",
    "    #  Build three curves \n",
    "    # (A) Flat 3% cc\n",
    "    curve_flat = PiecewiseLinearZeroCurve.from_flat(0.03)\n",
    "\n",
    "    # (B) Pillar zeros (continuous compounding)\n",
    "    pillars = [0.5, 1, 2, 3, 5, 7, 10]\n",
    "    zeros   = [0.028, 0.029, 0.030, 0.031, 0.032, 0.033, 0.034]\n",
    "    curve_zeros = PiecewiseLinearZeroCurve.from_zeros(pillars, zeros)\n",
    "\n",
    "    # (C) Bootstrap from deposits + annual par swaps (toy numbers)\n",
    "    dep_points  = [(1, 0.0300)]              # 1Y deposit, 3.00% simple\n",
    "    swap_points = [(2, 0.0310), (3, 0.0320), (4, 0.0325), (5, 0.0330)]  # par swap rates\n",
    "    curve_boot  = bootstrap_discounts_from_deposits_swaps(dep_points, swap_points)\n",
    "\n",
    "    curves = {\n",
    "        \"Flat 3%\": curve_flat,\n",
    "        \"Pillar Zeros\": curve_zeros,\n",
    "        \"Bootstrap (dep+swaps)\": curve_boot\n",
    "    }\n",
    "    \n",
    "    # HW parameters & trade \n",
    "    a, sigma = 0.05, 0.010\n",
    "    S, T = 2.0, 5.0\n",
    "    # Strike as 80% of P(0,T) on *each* curve (so the moneyness is consistent per curve)\n",
    "    rel_strike = 0.80\n",
    "\n",
    "    \n",
    "    print(\"=== HW1f vs Black (Black-76) for a ZCB Option ===\")\n",
    "    print(f\"HW params: a={a:.4f}, sigma={sigma:.4f}, Option expiry S={S}y, Bond maturity T={T}y\")\n",
    "    print(\"Note: Black price equals HW if sigma_ln = HW sigma_P(t,S,T).\")\n",
    "    print(\"-\" * 86)\n",
    "    print(f\"{'Curve':26s} {'P(0,S)':>10s} {'P(0,T)':>10s} {'K':>10s} {'HW Call':>12s} {'HW Put':>12s} {'Black@HWvol':>12s} {'Black@10%vol':>12s}\")\n",
    "\n",
    "    # price \n",
    "    for name, curve in curves.items():\n",
    "        hw   = HullWhite1F(a, sigma, curve)\n",
    "        P0S  = curve.discount(S)\n",
    "        P0T  = curve.discount(T)\n",
    "        K    = rel_strike * P0T\n",
    "\n",
    "        \n",
    "        # HW prices\n",
    "        call_hw = hw.call(S, T, K, t=0.0)\n",
    "        put_hw  = hw.put(S,  T, K, t=0.0)\n",
    "\n",
    "        # Black with HW-equivalent vol (should match HW)\n",
    "        sigma_hw = hw.sigma_P(0.0, S, T)\n",
    "        call_black_hw = BlackBondOption.price(P0S, P0T, K, sigma_hw, call=True)\n",
    "\n",
    "        # Black with an arbitrary 10% lognormal vol (to show model-risk delta)\n",
    "        call_black_10 = BlackBondOption.price(P0S, P0T, K, 0.10, call=True)\n",
    "\n",
    "        print(f\"{name:26s} {P0S:10.6f} {P0T:10.6f} {K:10.6f} {call_hw:12.6f} {put_hw:12.6f} {call_black_hw:12.6f} {call_black_10:12.6f}\")\n",
    "# Run\n",
    "if __name__ == \"__main__\":\n",
    "    compare_all_three_curves()"
   ]
  },
  {
   "cell_type": "markdown",
   "id": "90314a62-77b5-43ba-9fb2-705593e605bc",
   "metadata": {},
   "source": [
    "We printed comparison table of HW1f vs Black for bond options price across curves. The Hull-White model price matches Black@σ_HW price."
   ]
  },
  {
   "cell_type": "markdown",
   "id": "bfef998a-e342-40e4-8dc3-1813f62a6609",
   "metadata": {},
   "source": [
    "## ATM-forward pricing on flat curve and  parity check\n",
    "-Builds a flat 3% zero curve and sets HW1f parameters $a=0.05, \\sigma =0.01$ for an option expires in $S= 2Y$ \n",
    " on a zero-coupon bond   expiring in $T=5Y$\n",
    "- Computes $P(0,S)$ and $P(0,T)$ and the ATM-forward strike $K_{ATM}=\\frac{P(0,S)}{P(0,T)}$\n",
    "- Computes the HW bond-price lognormal volatility $\\sigma_p$ over $[0,S]$\n",
    "- Price options using both Hull-White(Black with $\\sigma_p$)  and Black-Scholes methods\n",
    "- Check the put-call parity \n",
    "\n"
   ]
  },
  {
   "cell_type": "code",
   "execution_count": 35,
   "id": "a4fbc8a5-6dc1-4f0f-8be1-50524c35fcbc",
   "metadata": {},
   "outputs": [
    {
     "name": "stdout",
     "output_type": "stream",
     "text": [
      "P(0,S)=0.941765  P(0,T)=0.860708  K_atm=0.913931  sig_hw=0.037508\n",
      "Call@HW=0.012878 Call@HWvol=0.012878   Call@10%vol=0.034323\n",
      "Parity check: Call - Put = 0.0   vs  P(0,T) - K*P(0,S) = 0.0\n"
     ]
    }
   ],
   "source": [
    "# curve (flat 3%)\n",
    "curve_flat = PiecewiseLinearZeroCurve.from_flat(0.03)\n",
    "\n",
    "#model params & trade \n",
    "a, sigma = 0.05, 0.010\n",
    "S, T = 2.0, 5.0\n",
    "hw = HullWhite1F(a, sigma, curve_flat)\n",
    "\n",
    "#discounts & ATM-forward strike \n",
    "P0S = curve_flat.discount(S)\n",
    "P0T = curve_flat.discount(T)\n",
    "K_atm = P0T / P0S\n",
    "\n",
    "# HW bond-price vol over [0,S] \n",
    "sig_hw = hw.sigma_P(0.0, S, T)\n",
    "\n",
    "# Prices (HW = Black with HW vol)\n",
    "call_hw_atm  = BlackBondOption.price(P0S, P0T, K_atm, sig_hw, call=True)\n",
    "call_blk_10  = BlackBondOption.price(P0S, P0T, K_atm, 0.10,  call=True)\n",
    "call_hw_formula = hw.zcb_option(S, T, K_atm, t=0.0, call=True)\n",
    "\n",
    "print(f\"P(0,S)={P0S:.6f}  P(0,T)={P0T:.6f}  K_atm={K_atm:.6f}  sig_hw={sig_hw:.6f}\")\n",
    "print(f\"Call@HW={call_hw_formula:.6f} Call@HWvol={call_hw_atm:.6f}   Call@10%vol={call_blk_10:.6f}\")\n",
    "\n",
    "# put-call parity \n",
    "put_hw_atm = BlackBondOption.price(P0S, P0T, K_atm, sig_hw, call=False)\n",
    "print(\"Parity check: Call - Put =\", call_hw_atm - put_hw_atm, \"  vs  P(0,T) - K*P(0,S) =\", P0T - K_atm*P0S)\n",
    "\n",
    "\n",
    "\n"
   ]
  },
  {
   "cell_type": "markdown",
   "id": "7d572fd4-ac60-42b1-877b-1e110e7fc5d3",
   "metadata": {},
   "source": [
    "Using Hull–White (1f), the bond-price volatility over 2y is $\\sigma_p=3.75 \\%$. The ATM-forward call on the 5Y zero-coupon bond is $0.012878$ per $\\$1$ notional. Black-76 with the same $\\sigma_p$ gives the same price (sanity check passed). With an ad-hoc $10\\%$ vol, the call jumps to $0.034323 (+0.02145)$, showing strong vega / volatility model risk. Put–call parity holds exactly at ATM (Call − Put = 0\n",
    "P(0,T)−KP(0,S)=0), confirming internal consistency."
   ]
  },
  {
   "cell_type": "markdown",
   "id": "1b517f54-e0e6-41a9-ba8e-2f9c26a8e50d",
   "metadata": {},
   "source": [
    "## ATM-forward comparison across three curves and volatility sensitivity "
   ]
  },
  {
   "cell_type": "code",
   "execution_count": 36,
   "id": "6d13bcb0-9ddd-4a9a-93ec-f8f02b58cb97",
   "metadata": {},
   "outputs": [
    {
     "name": "stdout",
     "output_type": "stream",
     "text": [
      "Curve                             K_ATM     sig_hw     Call@HWvol    Call@10%vol\n",
      "Flat 3%                        0.913931   0.037508       0.012878       0.034323\n",
      "Pillar Zeros                   0.904837   0.037508       0.012750       0.033981\n",
      "Bootstrap (dep+swaps)          0.903354   0.037508       0.012715       0.033889\n"
     ]
    }
   ],
   "source": [
    "# --- rebuild the three curves (same as in your demo) ---\n",
    "curve_flat   = PiecewiseLinearZeroCurve.from_flat(0.03)\n",
    "\n",
    "pillars = [0.5, 1, 2, 3, 5, 7, 10]\n",
    "zeros   = [0.028, 0.029, 0.030, 0.031, 0.032, 0.033, 0.034]\n",
    "curve_zeros  = PiecewiseLinearZeroCurve.from_zeros(pillars, zeros)\n",
    "\n",
    "dep_points  = [(1, 0.0300)]\n",
    "swap_points = [(2, 0.0310), (3, 0.0320), (4, 0.0325), (5, 0.0330)]  \n",
    "curve_boot   = bootstrap_discounts_from_deposits_swaps(dep_points, swap_points)\n",
    "\n",
    "curves = [(\"Flat 3%\", curve_flat), (\"Pillar Zeros\", curve_zeros), (\"Bootstrap (dep+swaps)\", curve_boot)]\n",
    "\n",
    "# --- HW params & trade ---\n",
    "a, sigma = 0.05, 0.010\n",
    "S, T = 2.0, 5.0\n",
    "\n",
    "print(f\"{'Curve':26s} {'K_ATM':>12s} {'sig_hw':>10s} {'Call@HWvol':>14s} {'Call@10%vol':>14s}\")\n",
    "for label, curve in curves:\n",
    "    hw   = HullWhite1F(a, sigma, curve)\n",
    "    P0S  = curve.discount(S)\n",
    "    P0T  = curve.discount(T)\n",
    "    K_atm = P0T / P0S\n",
    "    sig_hw = hw.sigma_P(0.0, S, T)\n",
    "    call_hw_atm = BlackBondOption.price(P0S, P0T, K_atm, sig_hw, call=True)\n",
    "    call_blk_10 = BlackBondOption.price(P0S, P0T, K_atm, 0.10,  call=True)\n",
    "    print(f\"{label:26s} {K_atm:12.6f} {sig_hw:10.6f} {call_hw_atm:14.6f} {call_blk_10:14.6f}\")\n"
   ]
  },
  {
   "cell_type": "markdown",
   "id": "cbc21033-a2f9-4c2e-97ec-6b8ad01700f7",
   "metadata": {},
   "source": [
    "- $\\sigma_{hw}$ is identical $0.037508$ for all rows\n",
    "- Different curve constructions give slightly different discounts, so the ATM strike moves\n",
    "- switching the volatility assumption from the HW-implied $~3.75\\%$ to an ad-hoc $10\\%$ roughly triples the price — so volatility choice dominates curve construction for this option."
   ]
  },
  {
   "cell_type": "markdown",
   "id": "22fe26e3-1f46-4d07-8f96-df0e27ffc352",
   "metadata": {},
   "source": [
    "## ATM-forward parameter sensitivity on flat curve ($±20\\%$ in $a$ and $\\sigma$)"
   ]
  },
  {
   "cell_type": "code",
   "execution_count": 37,
   "id": "77200f68-4f21-4566-938e-236c2b4b398c",
   "metadata": {},
   "outputs": [
    {
     "name": "stdout",
     "output_type": "stream",
     "text": [
      "Base=0.012878 | a +20%: -0.000308  a -20%: +0.000318 | sigma +20%: +0.002575  sigma -20%: -0.002575\n"
     ]
    }
   ],
   "source": [
    "# Using the flat curve above:\n",
    "def price_atm(curve, a, sigma, S, T):\n",
    "    hw   = HullWhite1F(a, sigma, curve)\n",
    "    P0S  = curve.discount(S)\n",
    "    P0T  = curve.discount(T)\n",
    "    K_atm = P0T / P0S\n",
    "    sig_hw = hw.sigma_P(0.0, S, T)\n",
    "    return BlackBondOption.price(P0S, P0T, K_atm, sig_hw, call=True)\n",
    "\n",
    "base = price_atm(curve_flat, a, sigma, S, T)\n",
    "p_a_up = price_atm(curve_flat, a*1.2, sigma, S, T)\n",
    "p_a_dn = price_atm(curve_flat, a*0.8, sigma, S, T)\n",
    "p_s_up = price_atm(curve_flat, a, sigma*1.2, S, T)\n",
    "p_s_dn = price_atm(curve_flat, a, sigma*0.8, S, T)\n",
    "\n",
    "print(f\"Base={base:.6f} | a +20%: {p_a_up-base:+.6f}  a -20%: {p_a_dn-base:+.6f} | sigma +20%: {p_s_up-base:+.6f}  sigma -20%: {p_s_dn-base:+.6f}\")\n"
   ]
  },
  {
   "cell_type": "markdown",
   "id": "d44abb93-9976-4a4f-bd80-cece1a4d410f",
   "metadata": {},
   "source": [
    "- Base price $= 0.012878$\n",
    "- $a +20\\%$ ->$−0.000308$ (≈$ −2.4\\%$ of base) and $a −20\\%$ → $+0.000318$ ($≈ +2.5\\%)$\n",
    "- Higher mean reversion lowers long-dated bond-price and vice-versa, but the effect is modest \n",
    "- $\\sigma +20\\%$ → $+0.002575$ ($≈ +20.0\\%$ of base), and $\\sigma -20\\% -> $ −0.002575$ ($+20\\%), dominant effect\n",
    "- At ATM, the HW1f call is far more sensitive to volatility ($\\sigma$) than to mean reversion($a$)\n"
   ]
  },
  {
   "cell_type": "markdown",
   "id": "640adf08-981d-4f0d-827e-05ff19b19570",
   "metadata": {},
   "source": [
    "### Summary"
   ]
  },
  {
   "cell_type": "markdown",
   "id": "630da65a-5271-4cb0-815e-c96bd13725ae",
   "metadata": {},
   "source": [
    "As theory predicts, Hull–White and Black-76 give the same option price when Black uses the volatility implied by Hull–White. At the money, the option was worth about 1.29 cents per $1 notional with the model-implied volatility; forcing a higher 10% volatility lifted the price to about 3.43 cents, showing that volatility choice is the biggest driver of value. Changing mean-reversion had a much smaller effect than changing volatility, and switching among the three curve constructions only moved the price by about 1%. Put–call parity held exactly, and deep in-the-money/ out-of-the-money behavior matched intuition (e.g., very low strike ⇒ put near zero). Overall, the project demonstrates a correct implementation, clear sanity checks, and a model-risk takeaway: volatility assumptions matter far more than curve construction or mean-reversion for this trade."
   ]
  }
 ],
 "metadata": {
  "kernelspec": {
   "display_name": "Python (my_env)",
   "language": "python",
   "name": "my_env"
  },
  "language_info": {
   "codemirror_mode": {
    "name": "ipython",
    "version": 3
   },
   "file_extension": ".py",
   "mimetype": "text/x-python",
   "name": "python",
   "nbconvert_exporter": "python",
   "pygments_lexer": "ipython3",
   "version": "3.11.13"
  }
 },
 "nbformat": 4,
 "nbformat_minor": 5
}
